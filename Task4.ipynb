{
  "cells": [
    {
      "cell_type": "markdown",
      "id": "01b6368a",
      "metadata": {
        "id": "01b6368a"
      },
      "source": [
        "<h1 align='center'><font color='red'> Task_4\n"
      ]
    },
    {
      "cell_type": "markdown",
      "id": "ce58d89a",
      "metadata": {
        "id": "ce58d89a"
      },
      "source": [
        "1. [NumPy](#NumPy)\n",
        "1. [oop](#oop)\n",
        "3. [ProblemSolving](#ProblemSolving)\n"
      ]
    },
    {
      "cell_type": "markdown",
      "id": "b4e00004",
      "metadata": {
        "id": "b4e00004"
      },
      "source": [
        "<a id='NumPy'></a>\n",
        "<h1><font color='red'> NumPy"
      ]
    },
    {
      "cell_type": "markdown",
      "id": "47431e1d",
      "metadata": {
        "id": "47431e1d"
      },
      "source": [
        "## 1.What does NumPy stand for?"
      ]
    },
    {
      "cell_type": "markdown",
      "id": "d41a0dbf",
      "metadata": {
        "id": "d41a0dbf"
      },
      "source": [
        "\n",
        "#### A) Number Python\n",
        "#### B)Numerator Python\n",
        "#### C) Numerical Python\n",
        "#### D)There is no full form, it is a stand-alone word  \n"
      ]
    },
    {
      "cell_type": "code",
      "execution_count": 1,
      "id": "zMrpHpmJ-_Il",
      "metadata": {
        "id": "zMrpHpmJ-_Il"
      },
      "outputs": [],
      "source": [
        "A = False #@param {type:\"boolean\"}\n",
        "B = False #@param {type:\"boolean\"}\n",
        "C = True #@param {type:\"boolean\"}\n",
        "D = False #@param {type:\"boolean\"}\n"
      ]
    },
    {
      "cell_type": "markdown",
      "id": "25547c4f",
      "metadata": {
        "id": "25547c4f"
      },
      "source": [
        "## 2.What does the size attribute in numpy use to find?"
      ]
    },
    {
      "cell_type": "markdown",
      "id": "5d3bce4d",
      "metadata": {
        "id": "5d3bce4d"
      },
      "source": [
        "\n",
        "#### A) number of items\n",
        "#### B)shape\n",
        "#### C) date & time\n",
        "#### D)unique items\n",
        "    "
      ]
    },
    {
      "cell_type": "code",
      "execution_count": 3,
      "id": "_zRmM_HQ_YyR",
      "metadata": {
        "id": "_zRmM_HQ_YyR"
      },
      "outputs": [],
      "source": [
        "A = True #@param {type:\"boolean\"}\n",
        "B = False #@param {type:\"boolean\"}\n",
        "C = False #@param {type:\"boolean\"}\n",
        "D = False #@param {type:\"boolean\"}"
      ]
    },
    {
      "cell_type": "code",
      "execution_count": 2,
      "id": "e65fba05",
      "metadata": {},
      "outputs": [
        {
          "name": "stdout",
          "output_type": "stream",
          "text": [
            "6\n"
          ]
        }
      ],
      "source": [
        "import numpy as np\n",
        "arr = np.array([[1,2,3], [2,3,4]])\n",
        "print(arr.size)"
      ]
    },
    {
      "cell_type": "markdown",
      "id": "3280ba3a",
      "metadata": {
        "id": "3280ba3a"
      },
      "source": [
        "### 3.What is the purpose of zero() function?"
      ]
    },
    {
      "cell_type": "markdown",
      "id": "b52b7109",
      "metadata": {
        "id": "b52b7109"
      },
      "source": [
        "#### A) To create a matrix with the first row and first column as 0\n",
        "#### B) To create a matrix with diagonal elements as 0\n",
        "#### C) To create a matrix with all elements as 0\n",
        "#### D) To return an integer number 0\n"
      ]
    },
    {
      "cell_type": "code",
      "execution_count": null,
      "id": "-74WzwGj__cZ",
      "metadata": {
        "id": "-74WzwGj__cZ"
      },
      "outputs": [],
      "source": [
        "A = False #@param {type:\"boolean\"}\n",
        "B = False #@param {type:\"boolean\"}\n",
        "C = True #@param {type:\"boolean\"}\n",
        "D = False #@param {type:\"boolean\"}"
      ]
    },
    {
      "cell_type": "code",
      "execution_count": 8,
      "id": "9f3abaa9",
      "metadata": {},
      "outputs": [
        {
          "name": "stdout",
          "output_type": "stream",
          "text": [
            "[[0. 0.]\n",
            " [0. 0.]\n",
            " [0. 0.]]\n"
          ]
        }
      ],
      "source": [
        "arr = np.zeros((3,2))\n",
        "print(arr)"
      ]
    },
    {
      "cell_type": "markdown",
      "id": "3618682c",
      "metadata": {
        "id": "3618682c"
      },
      "source": [
        "<h1><font color='red'> Answer these question"
      ]
    },
    {
      "cell_type": "markdown",
      "id": "e69e4a90",
      "metadata": {
        "id": "e69e4a90"
      },
      "source": [
        "### 4- create 1D, 2D and 3D arrays in NumPy? then returns the type of the elements stored in the NumPy array."
      ]
    },
    {
      "cell_type": "code",
      "execution_count": 9,
      "id": "9c191a1e",
      "metadata": {
        "id": "9c191a1e"
      },
      "outputs": [
        {
          "name": "stdout",
          "output_type": "stream",
          "text": [
            "[1 2 3 4 5] int32\n"
          ]
        }
      ],
      "source": [
        "# One-Dimensional array\n",
        "arr = np.arange(1,6)\n",
        "print(arr , arr.dtype)\n",
        "\n",
        "\n",
        "\n"
      ]
    },
    {
      "cell_type": "code",
      "execution_count": 10,
      "id": "94c39d76",
      "metadata": {
        "id": "94c39d76"
      },
      "outputs": [
        {
          "name": "stdout",
          "output_type": "stream",
          "text": [
            "[[1 3 5]\n",
            " [2 4 6]\n",
            " [2 3 5]] int32\n"
          ]
        }
      ],
      "source": [
        "# Two-Dimensional array\n",
        "arr = np.array([[1,3,5],[2,4,6],[2,3,5]])\n",
        "print(arr , arr.dtype)\n",
        "\n",
        "\n",
        "\n"
      ]
    },
    {
      "cell_type": "code",
      "execution_count": 11,
      "id": "be5ef3e2",
      "metadata": {
        "id": "be5ef3e2"
      },
      "outputs": [
        {
          "name": "stdout",
          "output_type": "stream",
          "text": [
            "[[[1. 1. 1. 1.]\n",
            "  [1. 1. 1. 1.]\n",
            "  [1. 1. 1. 1.]]] float64\n"
          ]
        }
      ],
      "source": [
        "# Three-Dimensional array\n",
        "\n",
        "shape = (1,3,4)\n",
        "arr = np.ones(shape)\n",
        "print(arr , arr.dtype)\n",
        "\n"
      ]
    },
    {
      "cell_type": "markdown",
      "id": "a7846d9f",
      "metadata": {
        "id": "a7846d9f"
      },
      "source": [
        "### 5-Reverse this array [[[1,2,3,4],[4,5,6,7],[7,8,9,10]]] in two ways......"
      ]
    },
    {
      "cell_type": "code",
      "execution_count": 35,
      "id": "e98b8f1a",
      "metadata": {
        "id": "e98b8f1a"
      },
      "outputs": [
        {
          "name": "stdout",
          "output_type": "stream",
          "text": [
            "[[[ 1  2  3  4]\n",
            "  [ 4  5  6  7]\n",
            "  [ 7  8  9 10]]]\n",
            "[[[ 7  8  9 10]\n",
            "  [ 4  5  6  7]\n",
            "  [ 1  2  3  4]]]\n"
          ]
        }
      ],
      "source": [
        "# Method one\n",
        "arr = np.array([[[1,2,3,4],[4,5,6,7],[7,8,9,10]]])\n",
        "print(arr)\n",
        "#arr1 = arr.reshape((12))\n",
        "#print(arr1)\n",
        "arr2 = arr[::-1,::-1]\n",
        "print(arr2)\n",
        "#arr3 = arr1.reshape((1,3,4))\n",
        "#print(arr3)\n",
        "\n",
        "\n"
      ]
    },
    {
      "cell_type": "code",
      "execution_count": 20,
      "id": "48627ad8",
      "metadata": {
        "id": "48627ad8"
      },
      "outputs": [
        {
          "name": "stdout",
          "output_type": "stream",
          "text": [
            "[[[ 1  2  3  4]\n",
            "  [ 4  5  6  7]\n",
            "  [ 7  8  9 10]]]\n",
            "[[[ 7  8  9 10]\n",
            "  [ 4  5  6  7]\n",
            "  [ 1  2  3  4]]]\n"
          ]
        }
      ],
      "source": [
        "# Method two\n",
        "#>**hint**: use flipud function\n",
        "arr = np.array([[[1,2,3,4],[4,5,6,7],[7,8,9,10]]])\n",
        "print(arr)\n",
        "arr2 = np.fliplr(arr)\n",
        "print(arr2)\n",
        "\n",
        "\n"
      ]
    },
    {
      "cell_type": "markdown",
      "id": "e85f1615",
      "metadata": {
        "id": "e85f1615"
      },
      "source": [
        "## 6-Make this array as an array one dimensional"
      ]
    },
    {
      "cell_type": "code",
      "execution_count": 39,
      "id": "ebb77e8a",
      "metadata": {
        "id": "ebb77e8a"
      },
      "outputs": [
        {
          "name": "stdout",
          "output_type": "stream",
          "text": [
            "[[[ 1  2  3  4]\n",
            "  [ 4  5  6  7]\n",
            "  [ 7  8  9 10]]]\n",
            "[ 1  2  3  4  4  5  6  7  7  8  9 10]\n"
          ]
        }
      ],
      "source": [
        "print(arr)\n",
        "print(arr.reshape((12)))"
      ]
    },
    {
      "cell_type": "code",
      "execution_count": null,
      "id": "72487dda",
      "metadata": {
        "id": "72487dda"
      },
      "outputs": [],
      "source": []
    },
    {
      "cell_type": "markdown",
      "id": "bc6fd424",
      "metadata": {
        "id": "bc6fd424"
      },
      "source": [
        "## 7- Create a 3X2 integer array and Prints its attributes¶\n",
        "* Note: The element must be a type of unsigned int16. And print the following Attributes:\n",
        "\n",
        "- The shape of an array.\n",
        "- Array dimensions.\n",
        "- The Length of each element of the array in bytes"
      ]
    },
    {
      "cell_type": "code",
      "execution_count": 49,
      "id": "04f6f820",
      "metadata": {
        "id": "04f6f820"
      },
      "outputs": [
        {
          "name": "stdout",
          "output_type": "stream",
          "text": [
            "[[257 257]\n",
            " [257 257]\n",
            " [257 257]]\n",
            "(3, 2)\n",
            "2\n",
            "2\n"
          ]
        }
      ],
      "source": [
        "arr = np.empty((3,2),dtype=np.int16)\n",
        "print(arr)\n",
        "print(arr.shape)\n",
        "print(arr.ndim)\n",
        "print(arr.itemsize)"
      ]
    },
    {
      "cell_type": "markdown",
      "id": "c80d388f",
      "metadata": {
        "id": "c80d388f"
      },
      "source": [
        "### 8- Return array of odd rows and even columns from below numpy array\n",
        "\n",
        "* # Ordering the values of each Key and the print the key witht highest value.\n",
        "\n",
        "\n",
        "> **`sampleArray = numpy.array([[3 ,6, 9, 12], [15 ,18, 21, 24],\n",
        "[27 ,30, 33, 36], [39 ,42, 45, 48], [51 ,54, 57, 60]])`**\n",
        "\n",
        "\n",
        "# The output should be:\n",
        "* `expexted output :\n",
        "[[ 3  6  9 12]\n",
        " [15 18 21 24]\n",
        " [27 30 33 36]\n",
        " [39 42 45 48]\n",
        " [51 54 57 60]]`\n",
        "\n",
        "* `Printing array of odd rows and even columns\n",
        "[[ 6 12]\n",
        " [30 36]\n",
        " [54 60]]`*"
      ]
    },
    {
      "cell_type": "code",
      "execution_count": 56,
      "id": "lT-8p9Ml4NT6",
      "metadata": {
        "id": "lT-8p9Ml4NT6"
      },
      "outputs": [
        {
          "name": "stdout",
          "output_type": "stream",
          "text": [
            "[[ 3  6  9 12]\n",
            " [15 18 21 24]\n",
            " [27 30 33 36]\n",
            " [39 42 45 48]\n",
            " [51 54 57 60]]\n",
            "[[ 6 12]\n",
            " [30 36]\n",
            " [54 60]]\n"
          ]
        }
      ],
      "source": [
        "sampleArray = np.array([[3 ,6, 9, 12], [15 ,18, 21, 24], [27 ,30, 33, 36], [39 ,42, 45, 48], [51 ,54, 57, 60]])\n",
        "print(np.sort(sampleArray,axis=0))\n",
        "print(sampleArray[::2,1::2])\n"
      ]
    },
    {
      "cell_type": "markdown",
      "id": "eae73db7",
      "metadata": {
        "id": "eae73db7"
      },
      "source": [
        "## 9-How is np.mean() different from np.average() in NumPy?"
      ]
    },
    {
      "cell_type": "code",
      "execution_count": null,
      "id": "8u9uBik3OHNt",
      "metadata": {
        "id": "8u9uBik3OHNt"
      },
      "outputs": [],
      "source": [
        "#They are frequently used interchangeably, but they should not even be.  \n",
        "#The np.mean() method returns the arithmetic mean, \n",
        "#but the np.average() function returns the algebraic mean if no additional parameters are specified, \n",
        "#but it may also be used to compute a weighted average."
      ]
    },
    {
      "cell_type": "markdown",
      "id": "81a2ddc8",
      "metadata": {
        "id": "81a2ddc8"
      },
      "source": [
        "## 10-Count the frequency of a given positive value appearing in this NumPy array\n",
        "## [1, 2, 1, 3, 5, 0, 0, 0, 2, 3] ?"
      ]
    },
    {
      "cell_type": "code",
      "execution_count": 59,
      "id": "de7ee71c",
      "metadata": {
        "id": "de7ee71c"
      },
      "outputs": [
        {
          "name": "stdout",
          "output_type": "stream",
          "text": [
            "10\n"
          ]
        }
      ],
      "source": [
        "arr = np.array([1, 2, 1, 3, 5, 0, 0, 0, 2, 3])\n",
        "count = 0 \n",
        "for i in arr:\n",
        "    if i >= 0 :\n",
        "        count += 1\n",
        "print(count)"
      ]
    },
    {
      "cell_type": "code",
      "execution_count": 60,
      "id": "c9fa19f6",
      "metadata": {},
      "outputs": [
        {
          "data": {
            "text/plain": [
              "10"
            ]
          },
          "execution_count": 60,
          "metadata": {},
          "output_type": "execute_result"
        }
      ],
      "source": [
        "arr = np.array([1, 2, 1, 3, 5, 0, 0, 0, 2, 3])\n",
        "(arr>=0).sum()"
      ]
    },
    {
      "cell_type": "markdown",
      "id": "dba015f1",
      "metadata": {
        "id": "dba015f1"
      },
      "source": [
        "## 11-Show how is arr[:,0] different from arr[:,[0]]"
      ]
    },
    {
      "cell_type": "code",
      "execution_count": 66,
      "id": "6fe4ab56",
      "metadata": {
        "id": "6fe4ab56"
      },
      "outputs": [
        {
          "name": "stdout",
          "output_type": "stream",
          "text": [
            "[ 3 15 27 39 51]\n"
          ]
        },
        {
          "data": {
            "text/plain": [
              "(5,)"
            ]
          },
          "execution_count": 66,
          "metadata": {},
          "output_type": "execute_result"
        }
      ],
      "source": [
        "arr = np.array([[3 ,6, 9, 12], [15 ,18, 21, 24], [27 ,30, 33, 36], [39 ,42, 45, 48], [51 ,54, 57, 60]])\n",
        "print(arr[:,0])\n",
        "arr[:,0].shape"
      ]
    },
    {
      "cell_type": "code",
      "execution_count": 67,
      "id": "f4694086",
      "metadata": {
        "id": "f4694086"
      },
      "outputs": [
        {
          "name": "stdout",
          "output_type": "stream",
          "text": [
            "[[ 3]\n",
            " [15]\n",
            " [27]\n",
            " [39]\n",
            " [51]]\n"
          ]
        },
        {
          "data": {
            "text/plain": [
              "(5, 1)"
            ]
          },
          "execution_count": 67,
          "metadata": {},
          "output_type": "execute_result"
        }
      ],
      "source": [
        "arr = np.array([[3 ,6, 9, 12], [15 ,18, 21, 24], [27 ,30, 33, 36], [39 ,42, 45, 48], [51 ,54, 57, 60]])\n",
        "print(arr[:,[0]])\n",
        "arr[:,[0]].shape"
      ]
    },
    {
      "cell_type": "markdown",
      "id": "6fe6ca1b",
      "metadata": {
        "id": "6fe6ca1b"
      },
      "source": [
        "### 12-How do you multiply these 2 NumPy array matrices [[15,16,17],[18,19,20],[21,22,23]]  &  [[20,21,22],[23,24,25],[26,27,28]] ?"
      ]
    },
    {
      "cell_type": "code",
      "execution_count": 68,
      "id": "7500d7e4",
      "metadata": {
        "id": "7500d7e4"
      },
      "outputs": [
        {
          "name": "stdout",
          "output_type": "stream",
          "text": [
            "[[300 336 374]\n",
            " [414 456 500]\n",
            " [546 594 644]]\n"
          ]
        }
      ],
      "source": [
        "arr1 = np.array([[15,16,17],[18,19,20],[21,22,23]])\n",
        "arr2 = np.array([[20,21,22],[23,24,25],[26,27,28]])\n",
        "print(arr1 * arr2)"
      ]
    },
    {
      "cell_type": "markdown",
      "id": "87e4e530",
      "metadata": {
        "id": "87e4e530"
      },
      "source": [
        "### 13 -Combine these 2 NumPy arrays [1,2,3] & [4,5,6] using vstack()     and hstack()"
      ]
    },
    {
      "cell_type": "code",
      "execution_count": 72,
      "id": "8556f467",
      "metadata": {
        "id": "8556f467"
      },
      "outputs": [
        {
          "name": "stdout",
          "output_type": "stream",
          "text": [
            "[[1 2 3]\n",
            " [4 5 6]]\n"
          ]
        }
      ],
      "source": [
        "arr1 = np.array([1,2,3])\n",
        "arr2 = np.array([4,5,6])\n",
        "print(np.vstack([arr1, arr2]))"
      ]
    },
    {
      "cell_type": "code",
      "execution_count": 73,
      "id": "eacb887d",
      "metadata": {},
      "outputs": [
        {
          "name": "stdout",
          "output_type": "stream",
          "text": [
            "[1 2 3 4 5 6]\n"
          ]
        }
      ],
      "source": [
        "arr1 = np.array([1,2,3])\n",
        "arr2 = np.array([4,5,6])\n",
        "print(np.hstack([arr1, arr2]))"
      ]
    },
    {
      "cell_type": "markdown",
      "id": "6d99f57e",
      "metadata": {
        "id": "6d99f57e"
      },
      "source": [
        "# <a id='oop'></a>\n",
        "<h1><font color='red'> oop"
      ]
    },
    {
      "cell_type": "markdown",
      "id": "d09ebaa6",
      "metadata": {
        "id": "d09ebaa6"
      },
      "source": [
        "# 1 - a \"class\" is ... </font>\n",
        "\n",
        "<br> </br>\n",
        "#### A) an instance variable\n",
        "#### B) a code template for creating object\n",
        "#### C) a function in python\n",
        "#### D) a synonym for methods"
      ]
    },
    {
      "cell_type": "code",
      "execution_count": 74,
      "id": "dd8d79b8",
      "metadata": {
        "id": "dd8d79b8"
      },
      "outputs": [],
      "source": [
        "A = False #@param {type:\"boolean\"}\n",
        "B = True #@param {type:\"boolean\"}\n",
        "C = False #@param {type:\"boolean\"}\n",
        "D = False #@param {type:\"boolean\"}\n"
      ]
    },
    {
      "cell_type": "markdown",
      "id": "94da8748",
      "metadata": {
        "id": "94da8748"
      },
      "source": [
        "# 2- What is a \"docstring\" ?</font>\n",
        "<br> </br>\n",
        "#### A) it is a sting literal specified in source code that is used to explain or document a specific segment of code\n",
        "#### B) it is a class method that allows working with string documents\n",
        "#### C) it is an alternative name for instance vaeiables of type string apprearing in classes\n",
        "#### D) it is a synonym for code comments"
      ]
    },
    {
      "cell_type": "code",
      "execution_count": 75,
      "id": "b3e6804e",
      "metadata": {
        "id": "b3e6804e"
      },
      "outputs": [],
      "source": [
        "A = True #@param {type:\"boolean\"}\n",
        "B = False #@param {type:\"boolean\"}\n",
        "C = False #@param {type:\"boolean\"}\n",
        "D = False #@param {type:\"boolean\"}\n"
      ]
    },
    {
      "cell_type": "code",
      "execution_count": null,
      "id": "4e992f1d",
      "metadata": {},
      "outputs": [],
      "source": [
        "def square(n):\n",
        "    return n**2"
      ]
    },
    {
      "cell_type": "markdown",
      "id": "0d792965",
      "metadata": {
        "id": "0d792965"
      },
      "source": [
        "## 3- Create a Bus class that inherits from the Vehicle class. Give the capacity argument of Bus.seating_capacity() a default value of 50.\n",
        "- Use the following code for your parent Vehicle class:.\n",
        ">   class Vehicle:\n",
        "    def __init__(self, name, max_speed, mileage):\n",
        "        self.name = name\n",
        "        self.max_speed = max_speed\n",
        "        self.mileage = mileage\n",
        "    def seating_capacity(self, capacity):\n",
        "        return f\"The seating capacity of a {self.name} is {capacity} passengers\n"
      ]
    },
    {
      "cell_type": "code",
      "execution_count": 76,
      "id": "ca64451c",
      "metadata": {
        "id": "ca64451c"
      },
      "outputs": [
        {
          "name": "stdout",
          "output_type": "stream",
          "text": [
            "The seating capacity of a mmmm is 50 passengers\n"
          ]
        }
      ],
      "source": [
        "class Vehicle:\n",
        "    def __init__(self , name , max_speed , mileage ):\n",
        "        self.name = name \n",
        "        self.max_speed = max_speed\n",
        "        self.mileage = mileage\n",
        "    def seating_capacity(self , capacity):\n",
        "        return f\"The seating capacity of a {self.name} is {capacity} passengers\"\n",
        "    \n",
        "class Bus(Vehicle):\n",
        "    def __init__(self, name, max_speed, mileage):\n",
        "        super().__init__(name, max_speed, mileage)\n",
        "    def seating_capacity(self, capacity=50):\n",
        "        return super().seating_capacity(capacity=50)"
      ]
    },
    {
      "cell_type": "code",
      "execution_count": null,
      "id": "238fb7cc",
      "metadata": {
        "id": "238fb7cc"
      },
      "outputs": [],
      "source": []
    },
    {
      "cell_type": "markdown",
      "id": "DKUWVq49LxBa",
      "metadata": {
        "id": "DKUWVq49LxBa"
      },
      "source": [
        "# <a id='ProblemSolving'></a>\n",
        "<h1><font color='red'>Problem Solving\n"
      ]
    },
    {
      "cell_type": "markdown",
      "id": "MwvD232bMq32",
      "metadata": {
        "id": "MwvD232bMq32"
      },
      "source": [
        "<a href='https://codeforces.com/problemset/problem/339/A'> **problem 1**"
      ]
    },
    {
      "cell_type": "code",
      "execution_count": 81,
      "id": "I5krJ01gLxBh",
      "metadata": {
        "id": "I5krJ01gLxBh"
      },
      "outputs": [
        {
          "name": "stdout",
          "output_type": "stream",
          "text": [
            "\n"
          ]
        }
      ],
      "source": [
        "# Problem_1 Link:\n",
        "#https://codeforces.com/problemset/submission/339/217444297\n",
        "num = input()\n",
        "numlist = num.split('+')\n",
        "numlist.sort()\n",
        "print('+'.join(numlist))\n"
      ]
    },
    {
      "cell_type": "markdown",
      "id": "DatcMQ4EM3Hb",
      "metadata": {
        "id": "DatcMQ4EM3Hb"
      },
      "source": [
        "<a href='https://codeforces.com/problemset/problem/118/A'> **problem 2**"
      ]
    },
    {
      "cell_type": "code",
      "execution_count": 85,
      "id": "bR2YKH5fLxBh",
      "metadata": {
        "id": "bR2YKH5fLxBh"
      },
      "outputs": [
        {
          "name": "stdout",
          "output_type": "stream",
          "text": [
            "\n"
          ]
        }
      ],
      "source": [
        "# Problem_2 Link:\n",
        "#https://codeforces.com/problemset/submission/118/217482411\n",
        "str1 = input()\n",
        "str1 = str1.lower()\n",
        "s = \"\"\n",
        "L = ['a', 'e', 'i', 'o', 'u', 'y']\n",
        "for i in range(0, len(str1)):\n",
        "    if str1[i] not in L:\n",
        "        s += '.'\n",
        "        s += str1[i]\n",
        " \n",
        "print(s)\n",
        "\n"
      ]
    },
    {
      "cell_type": "code",
      "execution_count": 84,
      "id": "a5f0bea7",
      "metadata": {},
      "outputs": [],
      "source": []
    }
  ],
  "metadata": {
    "colab": {
      "provenance": []
    },
    "kernelspec": {
      "display_name": "Python 3",
      "language": "python",
      "name": "python3"
    },
    "language_info": {
      "codemirror_mode": {
        "name": "ipython",
        "version": 3
      },
      "file_extension": ".py",
      "mimetype": "text/x-python",
      "name": "python",
      "nbconvert_exporter": "python",
      "pygments_lexer": "ipython3",
      "version": "3.10.5"
    }
  },
  "nbformat": 4,
  "nbformat_minor": 5
}
