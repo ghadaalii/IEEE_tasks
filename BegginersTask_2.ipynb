{
  "cells": [
    {
      "attachments": {},
      "cell_type": "markdown",
      "metadata": {
        "id": "HqjLIidRrJI4"
      },
      "source": [
        "#**Task_2  ^_^**\n",
        "\n",
        "---"
      ]
    },
    {
      "attachments": {},
      "cell_type": "markdown",
      "metadata": {
        "id": "W3zZBdg0raRU"
      },
      "source": [
        "# <font color='red'> 1) Mark down all the Valid function-calls for this function: </font>\n",
        "\n",
        "\n",
        "# def fun1(name, age):<br> ..... print(name,age)\n",
        "\n",
        "\n",
        "\n",
        "\n",
        "\n",
        "\n",
        "<br> </br>\n",
        "#### A) fun1( \"Emma\"  ,  23 )\n",
        "<br> </br>\n",
        "#### B) fun1( age = 23  ,  name = \"Emma\" )\n",
        "<br> </br>\n",
        "#### C) fun1( \"Emma\"  ,  age = 23 )\n",
        "<br> </br>\n",
        "#### D) fun1( name = \"Emma\" ,  23 )\n",
        "<br> </br>\n",
        "#### E) fun1( age = 23  ,  \"Emma\" )"
      ]
    },
    {
      "cell_type": "code",
      "execution_count": 1,
      "metadata": {
        "id": "oUiqgPmFr3Y5"
      },
      "outputs": [],
      "source": [
        "A = True #@param {type:\"boolean\"}\n",
        "B = True #@param {type:\"boolean\"}\n",
        "C = True #@param {type:\"boolean\"}\n",
        "D = False #@param {type:\"boolean\"}\n",
        "E = False #@param {type:\"boolean\"}\n"
      ]
    },
    {
      "attachments": {},
      "cell_type": "markdown",
      "metadata": {
        "id": "iQIcizgYsGJ-"
      },
      "source": [
        "# <font color='red'> 2) Debug the following code and correct the Error to make the output = 15: </font>\n",
        "\n",
        "\n",
        "    \n",
        "    def outer_fun(a, b , c):\n",
        "        def inner_fun(d , e):\n",
        "            return d + e\n",
        "\n",
        "        return inner_fun(a, b , c)\n",
        "        return a\n",
        "\n",
        "    result = outer_fun(5, 10)\n",
        "    print(result)"
      ]
    },
    {
      "cell_type": "code",
      "execution_count": 12,
      "metadata": {
        "id": "Nhi1O8T9sUwM"
      },
      "outputs": [
        {
          "ename": "IndentationError",
          "evalue": "unindent does not match any outer indentation level (<tokenize>, line 8)",
          "output_type": "error",
          "traceback": [
            "\u001b[1;36m  File \u001b[1;32m<tokenize>:8\u001b[1;36m\u001b[0m\n\u001b[1;33m    result = outer_fun(5, 10)\u001b[0m\n\u001b[1;37m    ^\u001b[0m\n\u001b[1;31mIndentationError\u001b[0m\u001b[1;31m:\u001b[0m unindent does not match any outer indentation level\n"
          ]
        }
      ],
      "source": [
        "def outer_fun(a, b , c):\n",
        "        def inner_fun(d , e):\n",
        "            return d + e\n",
        "\n",
        "        return inner_fun(a, b , c)\n",
        "        return a\n",
        "\n",
        "    result = outer_fun(5, 10)\n",
        "    print(result)"
      ]
    },
    {
      "cell_type": "code",
      "execution_count": 14,
      "metadata": {
        "id": "LHfUftHysbQw"
      },
      "outputs": [
        {
          "name": "stdout",
          "output_type": "stream",
          "text": [
            "15\n"
          ]
        }
      ],
      "source": [
        "\n",
        "def inner_fun(d , e):\n",
        "    return d + e\n",
        "\n",
        "    return inner_fun(a, b , c)\n",
        "    return a\n",
        "result = inner_fun(5, 10)\n",
        "print(result)"
      ]
    },
    {
      "attachments": {},
      "cell_type": "markdown",
      "metadata": {
        "id": "AYpH9KvysT7D"
      },
      "source": [
        "# <font color='red'> 3) Debug the following code and correct the Error to make the output = 16: </font>\n",
        "\n",
        "    def f1(x):\n",
        "        global x\n",
        "        x+=1\n",
        "        print(x)\n",
        "    f1(15)"
      ]
    },
    {
      "cell_type": "code",
      "execution_count": 17,
      "metadata": {
        "id": "H6ZiDEOcsc8J"
      },
      "outputs": [
        {
          "ename": "SyntaxError",
          "evalue": "name 'x' is parameter and global (7871007.py, line 2)",
          "output_type": "error",
          "traceback": [
            "\u001b[1;36m  Input \u001b[1;32mIn [17]\u001b[1;36m\u001b[0m\n\u001b[1;33m    global x\u001b[0m\n\u001b[1;37m    ^\u001b[0m\n\u001b[1;31mSyntaxError\u001b[0m\u001b[1;31m:\u001b[0m name 'x' is parameter and global\n"
          ]
        }
      ],
      "source": [
        "def f1(x):\n",
        "        global x\n",
        "        x+=1\n",
        "        print(x)\n",
        "f1(15)"
      ]
    },
    {
      "cell_type": "code",
      "execution_count": 1,
      "metadata": {
        "id": "87FowQ96scTC"
      },
      "outputs": [
        {
          "name": "stdout",
          "output_type": "stream",
          "text": [
            "16\n"
          ]
        }
      ],
      "source": [
        "#global x\n",
        "def f1(x):\n",
        "        x+=1\n",
        "        print(x)\n",
        "x = 15 \n",
        "f1(15)"
      ]
    },
    {
      "cell_type": "code",
      "execution_count": 2,
      "metadata": {},
      "outputs": [
        {
          "name": "stdout",
          "output_type": "stream",
          "text": [
            "16\n"
          ]
        }
      ],
      "source": [
        "global x\n",
        "def f1(x):\n",
        "        x+=1\n",
        "        print(x)\n",
        "f1(15)"
      ]
    },
    {
      "attachments": {},
      "cell_type": "markdown",
      "metadata": {
        "id": "DO43cMEjsdxb"
      },
      "source": [
        "# <font color='red'> 4) Write a function that takes any variable \"n\" and return its factorial: </font>\n",
        "\n",
        "##### **hint:** factorial of 5 = 5 x 4 x 3 x 2 x **1**"
      ]
    },
    {
      "cell_type": "code",
      "execution_count": 23,
      "metadata": {
        "id": "HDOOP5Xlsk2a"
      },
      "outputs": [
        {
          "name": "stdout",
          "output_type": "stream",
          "text": [
            "120\n"
          ]
        }
      ],
      "source": [
        "def fact(num):\n",
        "    factorial = 1 \n",
        "    if num < 0 :\n",
        "        print(\"not exist\")\n",
        "    elif num == 0 :\n",
        "        print(1)\n",
        "    else :\n",
        "        for i in range (1 , num+1):\n",
        "            factorial = factorial * i \n",
        "    print(factorial)\n",
        "fact(5)"
      ]
    },
    {
      "cell_type": "code",
      "execution_count": null,
      "metadata": {
        "id": "1QYBK580skq8"
      },
      "outputs": [],
      "source": []
    },
    {
      "attachments": {},
      "cell_type": "markdown",
      "metadata": {
        "id": "Iqkj_-JXslnv"
      },
      "source": [
        "# <font color='red'> 5) Write a code to print the following dictionary after: </font>\n",
        "* # Ordering the values of each Key and the print the key witht highest value.\n",
        "\n",
        "\n",
        "> **`dict ={ \"Ahmed\": (50 , 30 , 40) , \"Mohammed\": (15 , 10 , 25) , \"Khaled\": (10 , 40 , 20) }`**\n",
        "\n",
        "\n",
        "# The output should be:\n",
        "* `{\"Ahmed\": (50 , 40 , 30) , \"Mohammed\": (25 , 15 , 10) , \"Khaled\": (40 , 20 , 10)}`\n",
        "* `Ahmed`"
      ]
    },
    {
      "cell_type": "code",
      "execution_count": 3,
      "metadata": {
        "id": "4KukOajzst0n"
      },
      "outputs": [
        {
          "name": "stdout",
          "output_type": "stream",
          "text": [
            "Ahmed\n"
          ]
        }
      ],
      "source": [
        "dict ={ \"Ahmed\": (50 , 30 , 40) , \"Mohammed\": (15 , 10 , 25) , \"Khaled\": (10 , 40 , 20) }\n",
        "Keymax = max(zip(dict.values(), dict.keys()))[1]\n",
        "print(Keymax)"
      ]
    },
    {
      "cell_type": "code",
      "execution_count": 5,
      "metadata": {
        "id": "a-iNbiItstos"
      },
      "outputs": [
        {
          "name": "stdout",
          "output_type": "stream",
          "text": [
            "Ahmed\n"
          ]
        }
      ],
      "source": [
        "dict ={ \"Ahmed\": (50 , 30 , 40) , \"Mohammed\": (15 , 10 , 25) , \"Khaled\": (10 , 40 , 20) }\n",
        "Valuemax = max(dict, key= dict.get)\n",
        "print(Valuemax)"
      ]
    },
    {
      "attachments": {},
      "cell_type": "markdown",
      "metadata": {
        "id": "JIDxmPLrteLT"
      },
      "source": [
        "# <font color='red'> 6) Write a Python function that accepts a string and counts the number of upper and lower case letters. </font>\n",
        "* ## Sample String : \"Do not Postpone today's Work To tomoRRow\"\n",
        "\n",
        "# Expected Output :\n",
        "* `No. of Upper case characters :  6`\n",
        "* `No. of Lower case Characters :  27 `\n",
        "\n",
        "\n",
        "\n",
        "\n",
        "\n"
      ]
    },
    {
      "cell_type": "code",
      "execution_count": 34,
      "metadata": {
        "id": "P3csHw_ZuowG"
      },
      "outputs": [
        {
          "name": "stdout",
          "output_type": "stream",
          "text": [
            "No. of Upper case characters :  6\n",
            "No. of Lower case Characters :  27\n"
          ]
        }
      ],
      "source": [
        "def string_test(s):\n",
        "    d={\"upper\":0, \"lower\":0}\n",
        "    for c in s:\n",
        "        if c.isupper():\n",
        "           d[\"upper\"]+=1\n",
        "        elif c.islower():\n",
        "           d[\"lower\"]+=1\n",
        "        else :\n",
        "            pass\n",
        "    print (\"No. of Upper case characters : \", d[\"upper\"])\n",
        "    print (\"No. of Lower case Characters : \", d[\"lower\"])\n",
        "\n",
        "string_test(\"Do not Postpone today's Work To tomoRRow\")\n"
      ]
    },
    {
      "cell_type": "code",
      "execution_count": null,
      "metadata": {
        "id": "5JhkNZFEuoqb"
      },
      "outputs": [],
      "source": []
    },
    {
      "attachments": {},
      "cell_type": "markdown",
      "metadata": {
        "id": "nzWE8GrKusWX"
      },
      "source": [
        "# <font color='red'> 7) Write a Python function that two numbers N & M and print the summation of their last digits . </font>\n",
        "\n",
        "# * `Input :  13  12`\n",
        "# * `Output: 5`"
      ]
    },
    {
      "cell_type": "code",
      "execution_count": 47,
      "metadata": {
        "id": "CoVidok6wP4n"
      },
      "outputs": [
        {
          "name": "stdout",
          "output_type": "stream",
          "text": [
            "5\n"
          ]
        }
      ],
      "source": [
        "def last(n , m):\n",
        "    n , m = str(n) , str(m)\n",
        "    ln = int(n[-1])\n",
        "    lm = int(m[-1])\n",
        "    addition = ln + lm \n",
        "    print(addition)\n",
        "last(13, 12)"
      ]
    },
    {
      "cell_type": "code",
      "execution_count": null,
      "metadata": {
        "id": "xeVfv60iwP1N"
      },
      "outputs": [],
      "source": []
    },
    {
      "attachments": {},
      "cell_type": "markdown",
      "metadata": {
        "id": "GFVRG4HywQxr"
      },
      "source": [
        "# <font color='red'> 8) Your input is corresponding to a person's age (in days). print his age in years, months and days, followed by its respective message \"years\", \"months\" and \"days\" . </font>\n",
        "\n",
        "# * `Input :  400`\n",
        "# * `Output:  1 year  1 months  5 days`"
      ]
    },
    {
      "cell_type": "code",
      "execution_count": 56,
      "metadata": {},
      "outputs": [
        {
          "name": "stdout",
          "output_type": "stream",
          "text": [
            "1 years 1 months 5 days \n"
          ]
        }
      ],
      "source": [
        "def ages(days):\n",
        "    years = int(days/365)\n",
        "    days -= years*365\n",
        "\n",
        "    months = int(days/30)\n",
        "    days -= months*30\n",
        "    print(str(years) + ' years ' + str(months) + ' months ' + str(days) + ' days ')\n",
        "ages(400)"
      ]
    },
    {
      "attachments": {},
      "cell_type": "markdown",
      "metadata": {
        "id": "-DK6SmIpsuhs"
      },
      "source": [
        "# <font color='red'> **Solve these problems with python**:<br>\n",
        "<a href='https://codeforces.com/group/6Yv6FRlDFU/contest/327653/problem/C'> **problem 1** </a> </font>\n",
        "    <br>\n",
        "    <br>\n",
        "<a href='https://codeforces.com/group/6Yv6FRlDFU/contest/327653/problem/A'> **problem 2** </a> </font>"
      ]
    },
    {
      "cell_type": "code",
      "execution_count": null,
      "metadata": {
        "id": "WWY0KOEFtPQd"
      },
      "outputs": [],
      "source": [
        "# problem_1 Link"
      ]
    },
    {
      "cell_type": "code",
      "execution_count": 4,
      "metadata": {
        "id": "6hITO3GAta6P"
      },
      "outputs": [],
      "source": [
        "#https://codeforces.com/group/6Yv6FRlDFU/contest/327653/my#"
      ]
    },
    {
      "cell_type": "code",
      "execution_count": null,
      "metadata": {
        "id": "fbcnnzhEtPE4"
      },
      "outputs": [],
      "source": [
        "# problem_2 Link"
      ]
    },
    {
      "cell_type": "code",
      "execution_count": 5,
      "metadata": {
        "id": "e1XcNAVUtb0i"
      },
      "outputs": [],
      "source": [
        "#https://codeforces.com/group/6Yv6FRlDFU/contest/327653/my#"
      ]
    }
  ],
  "metadata": {
    "colab": {
      "provenance": []
    },
    "kernelspec": {
      "display_name": "Python 3",
      "name": "python3"
    },
    "language_info": {
      "codemirror_mode": {
        "name": "ipython",
        "version": 3
      },
      "file_extension": ".py",
      "mimetype": "text/x-python",
      "name": "python",
      "nbconvert_exporter": "python",
      "pygments_lexer": "ipython3",
      "version": "3.10.5"
    }
  },
  "nbformat": 4,
  "nbformat_minor": 0
}
