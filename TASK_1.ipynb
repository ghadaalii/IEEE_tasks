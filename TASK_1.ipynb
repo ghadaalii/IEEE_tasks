{
  "cells": [
    {
      "cell_type": "markdown",
      "metadata": {
        "id": "5tiqkSxGtqRH"
      },
      "source": [
        "# Task_1"
      ]
    },
    {
      "cell_type": "markdown",
      "metadata": {
        "id": "YWgp6TQynE42"
      },
      "source": [
        "# <font color='red'> 1) Mark down all the Valid boolean expression in python: </font> \n",
        "\n",
        "#### A) n > 100 and < 500\n",
        "#### B) n > 100 and n < 500\n",
        "#### C) 100 < n < 500\n"
      ]
    },
    {
      "cell_type": "code",
      "execution_count": 1,
      "metadata": {
        "id": "WaBM7Ua0l96Z"
      },
      "outputs": [],
      "source": [
        "A = False #@param {type:\"boolean\"} \n",
        "B = True #@param {type:\"boolean\"} \n",
        "C = True #@param {type:\"boolean\"} \n"
      ]
    },
    {
      "cell_type": "markdown",
      "metadata": {
        "id": "rzaw1bLYjps-"
      },
      "source": [
        "\n",
        "# <font color='red'> 2) Fill the gaps to get the ouput as in the example below:\n",
        "##### (For any string greater than 3 characters)\n",
        "#### **Input**: \"globalization\" \n",
        "#### **Output**: g11n\n",
        "#### **\n",
        "#### **Input**: \"subjective\" \n",
        "#### **Output**: s8e\n",
        "#### **\n",
        "\n",
        "### YOUR CODE: \n",
        "<font color='brown'> **s = input()** \n",
        "<br> **print(... + ... + ...)**\n"
      ]
    },
    {
      "cell_type": "code",
      "execution_count": 4,
      "metadata": {
        "colab": {
          "base_uri": "https://localhost:8080/"
        },
        "id": "HgAM8xvtnEbf",
        "outputId": "3ad7d7f5-dc52-449b-c14f-5630d07e9ae7"
      },
      "outputs": [
        {
          "name": "stdout",
          "output_type": "stream",
          "text": [
            "ghadaali\n",
            "g6i\n"
          ]
        }
      ],
      "source": [
        "s = input()\n",
        "print(s[0] + str(len(s)-2) + s[-1])"
      ]
    },
    {
      "cell_type": "markdown",
      "metadata": {
        "id": "S-tbOKj-lkek"
      },
      "source": [
        "# <font color='red'> 3) Create a tuple of 10 elements and then multiply each element of the tuple by 2 & save the results in a list"
      ]
    },
    {
      "cell_type": "code",
      "execution_count": 14,
      "metadata": {
        "colab": {
          "base_uri": "https://localhost:8080/"
        },
        "id": "B49aQLyil_gC",
        "outputId": "2be7967e-95ed-48ce-94d6-0d16ae070097"
      },
      "outputs": [
        {
          "name": "stdout",
          "output_type": "stream",
          "text": [
            "[2, 4, 6, 6, 8, 10, 12, 14, 16, 8]\n"
          ]
        }
      ],
      "source": [
        "my_tuple = (1,2,3,3,4,5,6,7,8,4)\n",
        "multiply_my_tuple = list(2 * elem for elem in my_tuple)\n",
        "print(multiply_my_tuple)"
      ]
    },
    {
      "cell_type": "markdown",
      "metadata": {
        "id": "LCdj2MzVp_7v"
      },
      "source": [
        "# <font color='red'> 4) Reverse the string 'Mansoura' using slicing"
      ]
    },
    {
      "cell_type": "code",
      "execution_count": 12,
      "metadata": {
        "colab": {
          "base_uri": "https://localhost:8080/",
          "height": 36
        },
        "id": "SubUk05Cs_k6",
        "outputId": "331f65b7-23ad-439c-c6be-f72ebbfee832"
      },
      "outputs": [
        {
          "data": {
            "application/vnd.google.colaboratory.intrinsic+json": {
              "type": "string"
            },
            "text/plain": [
              "'aruosnaM'"
            ]
          },
          "execution_count": 12,
          "metadata": {},
          "output_type": "execute_result"
        }
      ],
      "source": [
        "s = \"Mansoura\"\n",
        "s[::-1]"
      ]
    },
    {
      "cell_type": "markdown",
      "metadata": {
        "id": "XF8kQVzzsD6t"
      },
      "source": [
        "# <font color='red'> 5) Use List Comprehension to create a list of the first letters of ever-y word in the string below:\n",
        "\n",
        "* st = 'Friendship is the tree of its seeds tender'"
      ]
    },
    {
      "cell_type": "code",
      "execution_count": 38,
      "metadata": {
        "colab": {
          "base_uri": "https://localhost:8080/"
        },
        "id": "4BaX05QQtA7f",
        "outputId": "81ef7060-d30f-431a-ecd1-9a971eab6721"
      },
      "outputs": [
        {
          "name": "stdout",
          "output_type": "stream",
          "text": [
            "['F', 'i', 't', 't', 'o', 'i', 's', 't']\n"
          ]
        }
      ],
      "source": [
        "st = 'Friendship is the tree of its seeds tender'\n",
        "print([word[0] for word in st.split( )])\n",
        "#liist = st.split()\n",
        "#print(\" \".join(liist))\n",
        "#print(liist)"
      ]
    },
    {
      "cell_type": "markdown",
      "metadata": {
        "id": "GQo7e9YPmlQ0"
      },
      "source": [
        "# <font color='cyan'> BONUS <font color='red'> 6) Create a class called car that include some valriables like : \n",
        "* name\n",
        "* color\n",
        "* age"
      ]
    },
    {
      "cell_type": "code",
      "execution_count": null,
      "metadata": {
        "id": "PG15Tr-8tfni"
      },
      "outputs": [],
      "source": []
    },
    {
      "cell_type": "markdown",
      "metadata": {
        "id": "T4VSxkHzuaDa"
      },
      "source": [
        "# <font color='red'> **Solve these problems with python**:<br>\n",
        "<a href='https://www.hackerrank.com/challenges/python-string-split-and-join/problem'> **problem 1**\n",
        "    <br>\n",
        "    <br>\n",
        "<a href='https://www.hackerrank.com/challenges/py-if-else/problem'> **problem 2**\n",
        "<br>\n",
        "<br>\n",
        "<a href='https://codeforces.com/group/MWSDmqGsZm/contest/219158/problem/Y'> **problem 3**\n",
        "    <br>\n",
        "    <br>\n",
        "<a href='https://www.hackerrank.com/challenges/list-comprehensions/problem'> **problem 4** <font color='cyan'> BONUS\n",
        "    <br>\n",
        "    <br>\n",
        "<a href='https://www.hackerrank.com/challenges/swap-case/problem'> **problem 5** <font color='cyan'> BONUS\n",
        "    <br>\n",
        "    <br>\n",
        "<a href='https://codeforces.com/group/MWSDmqGsZm/contest/219158/problem/X'> **problem 6** <font color='cyan'> BONUS\n",
        "    <br>\n"
      ]
    },
    {
      "cell_type": "code",
      "execution_count": 39,
      "metadata": {
        "colab": {
          "base_uri": "https://localhost:8080/"
        },
        "id": "WfsduVL1vqsP",
        "outputId": "d4d45c9f-f60c-47b9-ce73-f57a721a729a"
      },
      "outputs": [
        {
          "name": "stdout",
          "output_type": "stream",
          "text": [
            "ghada ali abobakr\n",
            "ghada-ali-abobakr\n"
          ]
        }
      ],
      "source": [
        "#problem 1 \n",
        "def split_and_join(line):\n",
        "    # write your code here\n",
        "    num = line.split()\n",
        "    jo = \"-\".join(num)\n",
        "    return(jo)\n",
        "\n",
        "if __name__ == '__main__':\n",
        "    line = input()\n",
        "    result = split_and_join(line)\n",
        "    print(result)\n",
        "\n",
        "\n"
      ]
    },
    {
      "cell_type": "code",
      "execution_count": 41,
      "metadata": {
        "colab": {
          "base_uri": "https://localhost:8080/"
        },
        "id": "tV6DFexRvq5-",
        "outputId": "f5467b39-3d9c-4d51-c892-b985c176365f"
      },
      "outputs": [
        {
          "name": "stdout",
          "output_type": "stream",
          "text": [
            "65\n",
            "Weird\n"
          ]
        }
      ],
      "source": [
        "#problem 2\n",
        "#strip() -> fun to delete spaces\n",
        "p =int(input().strip())\n",
        "if p%2==1:\n",
        "    print('Weird')\n",
        "else :\n",
        "    if p in range(2,6):\n",
        "        print('Not Weird')\n",
        "    elif p in range(6,21):\n",
        "        print('Weird')\n",
        "    elif p in range(21,101):\n",
        "        print('Not Weird')\n",
        "\n",
        "\n"
      ]
    },
    {
      "cell_type": "code",
      "execution_count": 3,
      "metadata": {
        "colab": {
          "base_uri": "https://localhost:8080/"
        },
        "id": "8L9HjXVIvrB-",
        "outputId": "2e3e33bb-0765-4ebe-99ae-9c9304bd8183"
      },
      "outputs": [
        {
          "name": "stdout",
          "output_type": "stream",
          "text": [
            "2 3 4 1 \n",
            "24\n"
          ]
        }
      ],
      "source": [
        "#problem 3\n",
        "\n",
        "#https://codeforces.com/group/MWSDmqGsZm/contest/219158/my#\n",
        "arr=[int(i) for i in input().split()]\n",
        "for i in range(len(arr)):\n",
        "    if arr[i]>10000:\n",
        "        arr[i]=str(arr[i])\n",
        "        arr[i]=int(arr[i][-4:])\n",
        "res=arr[0]*arr[1]*arr[2]*arr[3]\n",
        "res=str(res)\n",
        "res=int(res[-2:])\n",
        "print(\"{:02}\".format(res))\n",
        "\n"
      ]
    },
    {
      "cell_type": "code",
      "execution_count": 11,
      "metadata": {
        "colab": {
          "base_uri": "https://localhost:8080/"
        },
        "id": "3f6ciBn7vrOL",
        "outputId": "6998d89d-c8c0-4817-d8f0-141f0ae1f98f"
      },
      "outputs": [
        {
          "name": "stdout",
          "output_type": "stream",
          "text": [
            "1 2 1 2 \n",
            "[[0, 0, 0], [0, 0, 1], [0, 1, 0], [0, 2, 1], [1, 0, 0], [1, 1, 1], [1, 2, 0], [1, 2, 1]]\n"
          ]
        }
      ],
      "source": [
        "#problem 4\n",
        "#x = int(input())\n",
        "#y = int(input())\n",
        "#z = int(input())\n",
        "#n = int(input())\n",
        "arr=[int(i) for i in input().split()]\n",
        "print ([[a,b,c] for a in range(0,arr[0]+1) for b in range(0,arr[1]+1) for c in range(0,arr[2]+1) if a + b + c != arr[3]])\n",
        "\n",
        "\n"
      ]
    },
    {
      "cell_type": "code",
      "execution_count": 6,
      "metadata": {
        "colab": {
          "base_uri": "https://localhost:8080/"
        },
        "id": "VfYvejyOvrem",
        "outputId": "abb39b6f-dcf2-4e33-d332-ae5d545fd939"
      },
      "outputs": [
        {
          "name": "stdout",
          "output_type": "stream",
          "text": [
            "it is a Great thing \n",
            "IT IS A gREAT THING \n"
          ]
        }
      ],
      "source": [
        "#problem 5\n",
        "s = input()\n",
        "revers = \"\"\n",
        "for letter in s:\n",
        "    if (letter.islower() == True):\n",
        "        revers = revers + letter.upper()\n",
        "    elif (letter.isupper() == True):\n",
        "        revers = revers + letter.lower()\n",
        "    else:\n",
        "        revers = revers + letter\n",
        "print(revers)\n",
        "\n",
        "\n"
      ]
    },
    {
      "cell_type": "code",
      "execution_count": 10,
      "metadata": {
        "colab": {
          "base_uri": "https://localhost:8080/"
        },
        "id": "QgXXw8otvr8D",
        "outputId": "b6dd1cb8-affc-4694-dd8e-bae58068bbec"
      },
      "outputs": [
        {
          "name": "stdout",
          "output_type": "stream",
          "text": [
            "1 15 5 27\n",
            "15 5\n"
          ]
        }
      ],
      "source": [
        "#problem 6\n",
        "#https://codeforces.com/group/MWSDmqGsZm/contest/219158/my#\n",
        "\n",
        "arr=[int(i) for i in input().split()]\n",
        "if ((arr[2] > arr[1] and arr[3] > arr[1]) or (arr[2] < arr[0] and arr[3] < arr[0])) :\n",
        "  print(-1)\n",
        "else :\n",
        "  n = max(arr[0], arr[2])\n",
        "  m = min(arr[1] , arr[3])\n",
        "  print(str(n) + \" \" + str(m))\n",
        "\n"
      ]
    }
  ],
  "metadata": {
    "colab": {
      "provenance": []
    },
    "kernelspec": {
      "display_name": "Python 3",
      "language": "python",
      "name": "python3"
    },
    "language_info": {
      "codemirror_mode": {
        "name": "ipython",
        "version": 3
      },
      "file_extension": ".py",
      "mimetype": "text/x-python",
      "name": "python",
      "nbconvert_exporter": "python",
      "pygments_lexer": "ipython3",
      "version": "3.10.5"
    },
    "vscode": {
      "interpreter": {
        "hash": "2924e3c7118e0268185f673a843da10b5469816c51d25a629778c362f68bf08e"
      }
    }
  },
  "nbformat": 4,
  "nbformat_minor": 0
}
